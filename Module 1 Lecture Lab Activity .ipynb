{
 "cells": [
  {
   "cell_type": "code",
   "execution_count": 12,
   "id": "9d17db7f-ec4d-4398-ad0e-e72a663b7402",
   "metadata": {},
   "outputs": [
    {
     "name": "stdout",
     "output_type": "stream",
     "text": [
      "Legoshi is the main protagonist of BEASTARS. He is 19 years old. He is a hero\n"
     ]
    }
   ],
   "source": [
    "name = \"Legoshi\"\n",
    "age = 19\n",
    "hero = True\n",
    "if hero == True:\n",
    "    print(f\"{name} is the main protagonist of BEASTARS. He is {age} years old. He is a hero\")\n",
    "else:\n",
    "    print(\"Melon is the antagonist in the final arc of BEASTARS. He is 24 years old. He is a villain\")"
   ]
  }
 ],
 "metadata": {
  "kernelspec": {
   "display_name": "Python [conda env:base] *",
   "language": "python",
   "name": "conda-base-py"
  },
  "language_info": {
   "codemirror_mode": {
    "name": "ipython",
    "version": 3
   },
   "file_extension": ".py",
   "mimetype": "text/x-python",
   "name": "python",
   "nbconvert_exporter": "python",
   "pygments_lexer": "ipython3",
   "version": "3.13.5"
  }
 },
 "nbformat": 4,
 "nbformat_minor": 5
}
